{
 "cells": [
  {
   "cell_type": "code",
   "execution_count": null,
   "metadata": {},
   "outputs": [],
   "source": [
    "import numpy as np\n",
    "import torch\n",
    "import torch.nn as nn\n",
    "import torchvision\n",
    "import torchvision.transforms as transforms\n",
    "from CustomTransform import CustomTransform\n",
    "from VanillaNet import VanillaNet\n",
    "from FeatureNet import FeatureNet"
   ]
  },
  {
   "cell_type": "code",
   "execution_count": null,
   "metadata": {},
   "outputs": [],
   "source": [
    "batch_size = 32\n",
    "loaders = 0\n",
    "epochs = 64\n",
    "classes = ('plane', 'car', 'bird', 'cat',\n",
    "           'deer', 'dog', 'frog', 'horse', 'ship', 'truck')\n",
    "\n",
    "custom_features = False;"
   ]
  },
  {
   "cell_type": "code",
   "execution_count": null,
   "metadata": {},
   "outputs": [],
   "source": [
    "standard_transform = transforms.Compose(\n",
    "    [transforms.ToTensor(),\n",
    "     transforms.Normalize((0.5, 0.5, 0.5), (0.5, 0.5, 0.5))])\n",
    "\n",
    "custom_transform = transforms.Compose(\n",
    "    [transforms.ToTensor(),\n",
    "     transforms.Normalize((0.5, 0.5, 0.5), (0.5, 0.5, 0.5)),\n",
    "     CustomTransform()])\n",
    "net = None\n",
    "super_tag = None\n",
    "\n",
    "if custom_features:\n",
    "    transform = custom_transform\n",
    "    net = FeatureNet()\n",
    "    super_tag = '_custom_'\n",
    "else:\n",
    "    # transform = standard_transform\n",
    "    transform = custom_transform\n",
    "    net = VanillaNet()\n",
    "    super_tag = '_standard_'"
   ]
  },
  {
   "cell_type": "code",
   "execution_count": null,
   "metadata": {},
   "outputs": [],
   "source": [
    "# Use this to download dataset\n",
    "path_to_dataset = 'C:/Users/Aakash/Workspace/Dataset/CIFAR10'\n",
    "trainset = torchvision.datasets.CIFAR10(root=path_to_dataset, train=True, download=True, transform=transform)\n",
    "testset = torchvision.datasets.CIFAR10(root=path_to_dataset, train=False, download=True, transform=transform)\n",
    "\n",
    "trainloader = torch.utils.data.DataLoader(trainset, batch_size=batch_size,shuffle=True, num_workers=loaders)\n",
    "testloader = torch.utils.data.DataLoader(testset, batch_size=batch_size, shuffle=False, num_workers=loaders)"
   ]
  },
  {
   "cell_type": "code",
   "execution_count": null,
   "metadata": {},
   "outputs": [],
   "source": [
    "# Loss function\n",
    "\n",
    "import torch.optim as optim\n",
    "train_on_gpu = torch.cuda.is_available()\n",
    "\n",
    "if not train_on_gpu:\n",
    "    print('CUDA is NOT available.  Training on CPU ...')\n",
    "else:\n",
    "    print('CUDA is available!  Training on GPU ...')\n",
    "    net = net.cuda()\n",
    "\n",
    "criterion = nn.CrossEntropyLoss()\n",
    "optimizer = optim.SGD(net.parameters(), lr=0.001, momentum=0.9)"
   ]
  },
  {
   "cell_type": "code",
   "execution_count": null,
   "metadata": {},
   "outputs": [],
   "source": [
    "def train_network():\n",
    "    global net\n",
    "    total_loss = 0\n",
    "    net.train()\n",
    "    batches_so_far = 0\n",
    "    correct = 0\n",
    "    for x, y in trainloader:\n",
    "        \n",
    "        if train_on_gpu:\n",
    "            x = x.cuda()\n",
    "            y = y.cuda()\n",
    "\n",
    "        optimizer.zero_grad()\n",
    "        output = net(x)\n",
    "        _, predicted = torch.max(output.data, 1)\n",
    "        correct += (predicted == labels).sum().item()\n",
    "        loss = criterion(output, y)\n",
    "        \n",
    "        loss.backward()\n",
    "        optimizer.step()        \n",
    "        total_loss += loss.item()\n",
    "        batches_so_far += 1\n",
    "    \n",
    "    if batches_so_far > 1 :\n",
    "        total_loss /= batches_so_far # loss per batch\n",
    "        correct /= batches_so_far # correct guesses per batch\n",
    "    \n",
    "    return total_loss, correct\n",
    "    "
   ]
  },
  {
   "cell_type": "code",
   "execution_count": null,
   "metadata": {},
   "outputs": [],
   "source": [
    "def test_network():\n",
    "    global net\n",
    "    total_loss = 0\n",
    "    correct = 0\n",
    "    net.eval()\n",
    "    batches_so_far = 0\n",
    "    with torch.no_grad():\n",
    "        for x, y in testloader:\n",
    "            \n",
    "            if train_on_gpu:\n",
    "                x = x.cuda()\n",
    "                y = y.cuda()\n",
    "                \n",
    "            output = net(x)\n",
    "            loss = criterion(output, y)\n",
    "            _, predicted = torch.max(output.data, 1)\n",
    "            correct += (predicted == labels).sum().item()\n",
    "            total_loss += loss.item()\n",
    "            batches_so_far+=1\n",
    "    \n",
    "    if batches_so_far > 1 :\n",
    "        total_loss /= batches_so_far\n",
    "        correct /= batches_so_far\n",
    "    \n",
    "    return total_loss, correct\n"
   ]
  },
  {
   "cell_type": "code",
   "execution_count": null,
   "metadata": {},
   "outputs": [],
   "source": [
    "# Run specefic variables\n",
    "import time\n",
    "#from torch.utils.tensorboard import SummaryWriter\n",
    "from tensorboardX import SummaryWriter\n",
    "\n",
    "model_id = super_tag + str(int(time.time())) \n",
    "\n",
    "print('model id id ', model_id)\n",
    "path_state_dict = \"checkpoints/state_dict_\"+model_id+\".pth\"\n",
    "path_model = \"checkpoints/model_\"+model_id+\".pth\"\n",
    "\n",
    "writer = SummaryWriter(comment=model_id)\n",
    "\n",
    "tag_train_loss = \"train_loss\"\n",
    "tag_test_loss = \"test_loss\"\n",
    "\n",
    "tag_train_acc = \"train_acc\"\n",
    "tag_test_acc = \"test_acc\""
   ]
  },
  {
   "cell_type": "code",
   "execution_count": null,
   "metadata": {},
   "outputs": [],
   "source": [
    "from IPython.display import clear_output\n",
    "lowest_test_loss = np.inf\n",
    "\n",
    "for e in range(epochs):\n",
    "    train_loss, train_acc = train_network()\n",
    "    writer.add_scalar(tag_train_loss, train_loss, e)\n",
    "    writer.add_scalar(tag_train_acc, train_acc, e)\n",
    "    test_loss, test_acc = test_network()\n",
    "    writer.add_scalar(tag_test_loss, test_loss, e)\n",
    "    writer.add_scalar(tag_test_acc, test_acc, e)\n",
    "    \n",
    "    clear_output()\n",
    "    print(\"epoch\", e, \"\\ttrain loss \", train_loss, \"\\ttest loss \", test_loss )\n",
    "    \n",
    "    if test_loss < lowest_test_loss:\n",
    "        lowest_test_loss = test_loss\n",
    "        torch.save(net.state_dict(), path_state_dict)\n",
    "        torch.save(net, path_model)"
   ]
  },
  {
   "cell_type": "code",
   "execution_count": null,
   "metadata": {},
   "outputs": [],
   "source": [
    "# Load the best model \n",
    "print(\"Loading best model so far\")\n",
    "net.load_state_dict(path_state_dict)"
   ]
  }
 ],
 "metadata": {
  "kernelspec": {
   "display_name": "Python 3",
   "language": "python",
   "name": "python3"
  },
  "language_info": {
   "codemirror_mode": {
    "name": "ipython",
    "version": 3
   },
   "file_extension": ".py",
   "mimetype": "text/x-python",
   "name": "python",
   "nbconvert_exporter": "python",
   "pygments_lexer": "ipython3",
   "version": "3.7.3"
  }
 },
 "nbformat": 4,
 "nbformat_minor": 4
}
