{
 "cells": [
  {
   "cell_type": "code",
   "execution_count": null,
   "metadata": {},
   "outputs": [],
   "source": [
    "import torch\n",
    "import torchvision\n",
    "import torchvision.transforms as transforms"
   ]
  },
  {
   "cell_type": "code",
   "execution_count": null,
   "metadata": {},
   "outputs": [],
   "source": [
    "batch_size = 32\n",
    "load_worker = 0\n",
    "classes = ('plane', 'car', 'bird', 'cat',\n",
    "           'deer', 'dog', 'frog', 'horse', 'ship', 'truck')"
   ]
  },
  {
   "cell_type": "code",
   "execution_count": null,
   "metadata": {},
   "outputs": [],
   "source": [
    "# Use this to download dataset\n",
    "\n",
    "# Not needed if dataset already downloaded\n",
    "path_to_dataset = '/Dataset/CIFAR10'\n",
    "trainset = torchvision.datasets.CIFAR10(root=path_to_dataset, train=True, download=True)\n",
    "testset = torchvision.datasets.CIFAR10(root=path_to_dataset, train=False, download=True)"
   ]
  },
  {
   "cell_type": "code",
   "execution_count": null,
   "metadata": {},
   "outputs": [],
   "source": [
    "# Get NN here. \n",
    "net = None"
   ]
  },
  {
   "cell_type": "code",
   "execution_count": null,
   "metadata": {},
   "outputs": [],
   "source": [
    "train_on_gpu = torch.cuda.is_available()\n",
    "\n",
    "if not train_on_gpu:\n",
    "    print('CUDA is NOT available.  Training on CPU ...')\n",
    "else:\n",
    "    print('CUDA is available!  Training on GPU ...')\n",
    "\n",
    "import time    \n",
    "model_id = int(time.time()) \n",
    "\n",
    "print('model id id ', model_id)\n",
    "path_state_dict = \"checkpoints/state_dict_\"+model_id+\".pth\"\n",
    "path_model = \"checkpoints/model_\"+model_id+\".pth\""
   ]
  },
  {
   "cell_type": "code",
   "execution_count": null,
   "metadata": {},
   "outputs": [],
   "source": [
    "# Loss function\n",
    "\n",
    "import torch.optim as optim\n",
    "\n",
    "criterion = nn.CrossEntropyLoss()\n",
    "optimizer = optim.SGD(net.parameters(), lr=0.001, momentum=0.9)"
   ]
  },
  {
   "cell_type": "code",
   "execution_count": null,
   "metadata": {},
   "outputs": [],
   "source": [
    "def train_netwrork():\n",
    "    global net\n",
    "    total_loss = 0\n",
    "    net.train()\n",
    "    batches_so_far = 0\n",
    "    \n",
    "    for x, y in train_loader:\n",
    "        \n",
    "        if train_on_gpu:\n",
    "            x = x.cuda()\n",
    "            y = y.cuda()\n",
    "\n",
    "        optimizer.zero_grad()\n",
    "        output = net(x)\n",
    "        loss = criterion(output, y)\n",
    "        \n",
    "        loss.backward()\n",
    "        optimizer.step()        \n",
    "        total_loss += loss.item()\n",
    "        batches_so_far += 1\n",
    "    \n",
    "    if batches_so_far > 1\n",
    "        total_loss /= batches_so_far # loss per batch\n",
    "    \n",
    "    return total_loss\n",
    "    "
   ]
  },
  {
   "cell_type": "code",
   "execution_count": null,
   "metadata": {},
   "outputs": [],
   "source": [
    "def test():\n",
    "    global net\n",
    "    total_loss = 0\n",
    "    net.eval()\n",
    "    batches_so_far = 0\n",
    "    with torch.no_grad():\n",
    "        for x, y in test_loader:\n",
    "            \n",
    "            if train_on_gpu:\n",
    "                x = x.cuda()\n",
    "                y = y.cuda()\n",
    "                \n",
    "            output = net(x)\n",
    "            loss = criterion(output, y)\n",
    "            total_loss += loss.item()\n",
    "            batches_so_far+=1\n",
    "    \n",
    "    if batches_so_far > 1 :\n",
    "        total_loss /= batches_so_far\n",
    "    \n",
    "    return total_loss\n"
   ]
  }
 ],
 "metadata": {
  "kernelspec": {
   "display_name": "Python 3",
   "language": "python",
   "name": "python3"
  },
  "language_info": {
   "codemirror_mode": {
    "name": "ipython",
    "version": 3
   },
   "file_extension": ".py",
   "mimetype": "text/x-python",
   "name": "python",
   "nbconvert_exporter": "python",
   "pygments_lexer": "ipython3",
   "version": "3.7.3"
  }
 },
 "nbformat": 4,
 "nbformat_minor": 4
}
